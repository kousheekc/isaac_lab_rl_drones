{
 "cells": [
  {
   "cell_type": "code",
   "execution_count": 4,
   "metadata": {},
   "outputs": [],
   "source": [
    "import casadi as ca"
   ]
  },
  {
   "cell_type": "code",
   "execution_count": null,
   "metadata": {},
   "outputs": [],
   "source": [
    "px, py, pz = ca.MX.sym('px', 1), ca.MX.sym('py', 1), ca.MX.sym('pz', 1)\n",
    "vx, vy, vz = ca.MX.sym('vx', 1), ca.MX.sym('vy', 1), ca.MX.sym('vz', 1)\n",
    "qw, qx, qy, qz = ca.MX.sym('qw',1), ca.MX.sym('qx',1), ca.MX.sym('qy',1), ca.MX.sym('qz',1), \n",
    "wx, wy, wz = ca.MX.sym('wx', 1), ca.MX.sym('wy', 1), ca.MX.sym('wz', 1)\n",
    "\n",
    "px_d, py_d, pz_d = ca.MX.sym('px_d', 1), ca.MX.sym('py_d', 1), ca.MX.sym('pz_d', 1)\n",
    "vx_d, vy_d, vz_d = ca.MX.sym('vx_d', 1), ca.MX.sym('vy_d', 1), ca.MX.sym('vz_d', 1)\n",
    "qw_d, qx_d, qy_d, qz_d = ca.MX.sym('qw_d',1), ca.MX.sym('qx_d',1), ca.MX.sym('qy_d',1), ca.MX.sym('qz_d',1), \n",
    "wx_d, wy_d, wz_d = ca.MX.sym('wx_d', 1), ca.MX.sym('wy_d', 1), ca.MX.sym('wz_d', 1)\n",
    "\n",
    "u1 = ca.MX.sym('u1')\n",
    "u2 = ca.MX.sym('u2')\n",
    "u3 = ca.MX.sym('u3')\n",
    "u4 = ca.MX.sym('u4')\n",
    "\n",
    "x_dim = 13\n",
    "u_dim = 4\n",
    "\n",
    "x = ca.vertcat(px, py, pz, qw, qx, qy, qz, vx, vy, vz, wx, wy, wz)\n",
    "xdot = ca.vertcat(px_d, py_d, pz_d, qw_d, qx_d, qy_d, qz_d, vx_d, vy_d, vz_d, wx_d, wy_d, wz_d)\n",
    "u = ca.vertcat(u1, u2, u3, u4)"
   ]
  },
  {
   "cell_type": "code",
   "execution_count": null,
   "metadata": {},
   "outputs": [],
   "source": [
    "f_expl = ca.vertcat(\n",
    "    vx,\n",
    "    vy,\n",
    "    vz,\n",
    "    \n",
    ")"
   ]
  }
 ],
 "metadata": {
  "kernelspec": {
   "display_name": "drone_nmpc",
   "language": "python",
   "name": "python3"
  },
  "language_info": {
   "codemirror_mode": {
    "name": "ipython",
    "version": 3
   },
   "file_extension": ".py",
   "mimetype": "text/x-python",
   "name": "python",
   "nbconvert_exporter": "python",
   "pygments_lexer": "ipython3",
   "version": "3.10.13"
  }
 },
 "nbformat": 4,
 "nbformat_minor": 2
}
