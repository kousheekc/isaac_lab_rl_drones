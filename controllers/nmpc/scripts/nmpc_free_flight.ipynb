{
 "cells": [
  {
   "cell_type": "code",
   "execution_count": 4,
   "metadata": {},
   "outputs": [],
   "source": [
    "import casadi as ca"
   ]
  },
  {
   "cell_type": "code",
   "execution_count": null,
   "metadata": {},
   "outputs": [],
   "source": [
    "px, py, pz = ca.MX.sym('px', 1), ca.MX.sym('py', 1), ca.MX.sym('pz', 1)\n",
    "vx, vy, vz = ca.MX.sym('vx', 1), ca.MX.sym('vy', 1), ca.MX.sym('vz', 1)\n",
    "qw, qx, qy, qz = ca.MX.sym('qw',1), \n",
    "w = ca.MX.sym('w',3)   # angular velocity      wx wy wz\n",
    "\n",
    "u1 = ca.MX.sym('u1')\n",
    "u2 = ca.MX.sym('u2')\n",
    "u3 = ca.MX.sym('u3')\n",
    "u4 = ca.MX.sym('u4')\n",
    "\n",
    "dpdt = ca.MX.sym('dpdt',3)     # dp_x/dt dp_y/dt dp_z/dt\n",
    "dvdt = ca.MX.sym('dvdt',3)     # dv_x/dt dv_y/dt dv_z/dt\n",
    "dqdt = ca.MX.sym('dqdt',4)     # dq_w/dt dq_x/dt dq_y/dt dq_z/dt\n",
    "dwdt = ca.MX.sym('dwdt',3)     # dw_x/dt dw_y/dt dw_z/dt\n",
    "\n",
    "x_dim = 13\n",
    "u_dim = 4\n",
    "\n",
    "x = ca.vertcat(p, v, q, w)\n",
    "xdot = ca.vertcat(dpdt, dvdt, dqdt, dwdt)\n",
    "u = ca.vertcat(u1, u2, u3, u4)"
   ]
  },
  {
   "cell_type": "code",
   "execution_count": null,
   "metadata": {},
   "outputs": [],
   "source": [
    "def p_dot():\n",
    "    return v\n",
    "\n",
    "def v_dot():\n",
    "    collective_thrust = self.u1 + self.u2 + self.u3 + self.u4\n",
    "    force = cs.vertcat(0, 0, collective_thrust)\n",
    "    acc_input = force/self.m\n",
    "    g_vec = cs.vertcat(0.0, 0.0, -9.81)\n",
    "    rotm = tools.quaternion2rotm(self.q)\n",
    "    dvdt = cs.mtimes(rotm, acc_input) + g_vec\n",
    "    return dvdt"
   ]
  },
  {
   "cell_type": "code",
   "execution_count": null,
   "metadata": {},
   "outputs": [],
   "source": [
    "f_expl = ca.vertcat(\n",
    "    v,\n",
    "    \n",
    ")"
   ]
  }
 ],
 "metadata": {
  "kernelspec": {
   "display_name": "isaaclab",
   "language": "python",
   "name": "python3"
  },
  "language_info": {
   "codemirror_mode": {
    "name": "ipython",
    "version": 3
   },
   "file_extension": ".py",
   "mimetype": "text/x-python",
   "name": "python",
   "nbconvert_exporter": "python",
   "pygments_lexer": "ipython3",
   "version": "3.10.15"
  }
 },
 "nbformat": 4,
 "nbformat_minor": 2
}
