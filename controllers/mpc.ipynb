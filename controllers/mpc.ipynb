{
 "cells": [
  {
   "cell_type": "code",
   "execution_count": 35,
   "metadata": {},
   "outputs": [],
   "source": [
    "import casadi as ca\n",
    "import numpy as np"
   ]
  },
  {
   "cell_type": "code",
   "execution_count": 36,
   "metadata": {},
   "outputs": [],
   "source": [
    "T = 10\n",
    "dt = 0.1\n",
    "# N = int(T/dt)\n",
    "N = 20\n",
    "\n",
    "g = 9.81\n",
    "x_dim = 10\n",
    "u_dim = 4\n",
    "\n",
    "w_max_yaw = 6.0\n",
    "w_max_xy = 6.0\n",
    "thrust_min = 2.0\n",
    "thrust_max = 20.0\n",
    "\n",
    "x_cost = np.diag([\n",
    "    100, 100, 100,  \n",
    "    10, 10, 10, 10,\n",
    "    10, 10, 10]) \n",
    "\n",
    "u_cost = np.diag([0.1, 0.1, 0.1, 0.1])"
   ]
  },
  {
   "cell_type": "code",
   "execution_count": null,
   "metadata": {},
   "outputs": [],
   "source": [
    "def runge_kutta_4(f, dt, x_dim, u_dim):\n",
    "    M = 4\n",
    "    DT = dt/M\n",
    "    X0 = ca.SX.sym(\"X0\", x_dim)\n",
    "    U = ca.SX.sym(\"U\", u_dim)\n",
    "\n",
    "    X = X0\n",
    "    Q = 0\n",
    "    # --------- RK4------------\n",
    "    for _ in range(M):\n",
    "        k1, k1_q = f(X, U)\n",
    "        k2, k2_q = f(X + DT/2 * k1, U)\n",
    "        k3, k3_q = f(X + DT/2 * k2, U)\n",
    "        k4, k4_q = f(X + DT * k3, U)\n",
    "        X=X+DT/6*(k1 +2*k2 +2*k3 +k4)\n",
    "        Q = Q + DT/6*(k1_q + 2*k2_q + 2*k3_q + k4_q)\n",
    "\n",
    "    F = ca.Function('F', [X0, U], [X, Q],['x0','p'],['xf','qf'])\n",
    "    return F\n"
   ]
  },
  {
   "cell_type": "code",
   "execution_count": null,
   "metadata": {},
   "outputs": [
    {
     "name": "stderr",
     "output_type": "stream",
     "text": [
      "CasADi - 2024-12-06 14:26:09 WARNING(\"CasADi was not compiled with WITH_OPENMP=ON. Falling back to serial evaluation.\") [.../casadi/core/map.cpp:403]\n"
     ]
    },
    {
     "ename": "RuntimeError",
     "evalue": "Error in Function::call for 'F' [SXFunction] at .../casadi/core/function.cpp:1432:\n.../casadi/core/function_internal.hpp:1091: FunctionInternal::index_in: could not find entry \"p\". Available names are: [i0, i1].",
     "output_type": "error",
     "traceback": [
      "\u001b[0;31m---------------------------------------------------------------------------\u001b[0m",
      "\u001b[0;31mRuntimeError\u001b[0m                              Traceback (most recent call last)",
      "\u001b[0;32m/tmp/ipykernel_89903/2381905685.py\u001b[0m in \u001b[0;36m?\u001b[0;34m()\u001b[0m\n\u001b[1;32m     25\u001b[0m \u001b[0;34m\u001b[0m\u001b[0m\n\u001b[1;32m     26\u001b[0m \u001b[0mF\u001b[0m \u001b[0;34m=\u001b[0m \u001b[0mrunge_kutta_4\u001b[0m\u001b[0;34m(\u001b[0m\u001b[0mf\u001b[0m\u001b[0;34m,\u001b[0m \u001b[0mdt\u001b[0m\u001b[0;34m,\u001b[0m \u001b[0mx_dim\u001b[0m\u001b[0;34m,\u001b[0m \u001b[0mu_dim\u001b[0m\u001b[0;34m)\u001b[0m\u001b[0;34m\u001b[0m\u001b[0;34m\u001b[0m\u001b[0m\n\u001b[1;32m     27\u001b[0m \u001b[0mfMap\u001b[0m \u001b[0;34m=\u001b[0m \u001b[0mF\u001b[0m\u001b[0;34m.\u001b[0m\u001b[0mmap\u001b[0m\u001b[0;34m(\u001b[0m\u001b[0mN\u001b[0m\u001b[0;34m,\u001b[0m \u001b[0;34m\"openmp\"\u001b[0m\u001b[0;34m)\u001b[0m \u001b[0;31m# parallel\u001b[0m\u001b[0;34m\u001b[0m\u001b[0;34m\u001b[0m\u001b[0m\n\u001b[1;32m     28\u001b[0m \u001b[0;34m\u001b[0m\u001b[0m\n\u001b[0;32m---> 29\u001b[0;31m \u001b[0mFk\u001b[0m \u001b[0;34m=\u001b[0m \u001b[0mF\u001b[0m\u001b[0;34m(\u001b[0m\u001b[0mx0\u001b[0m\u001b[0;34m=\u001b[0m\u001b[0;34m[\u001b[0m\u001b[0;36m0.2\u001b[0m\u001b[0;34m,\u001b[0m\u001b[0;36m0.3\u001b[0m\u001b[0;34m]\u001b[0m\u001b[0;34m,\u001b[0m\u001b[0mp\u001b[0m\u001b[0;34m=\u001b[0m\u001b[0;36m0.4\u001b[0m\u001b[0;34m)\u001b[0m\u001b[0;34m\u001b[0m\u001b[0;34m\u001b[0m\u001b[0m\n\u001b[0m\u001b[1;32m     30\u001b[0m \u001b[0mprint\u001b[0m\u001b[0;34m(\u001b[0m\u001b[0mFk\u001b[0m\u001b[0;34m[\u001b[0m\u001b[0;34m'xf'\u001b[0m\u001b[0;34m]\u001b[0m\u001b[0;34m)\u001b[0m\u001b[0;34m\u001b[0m\u001b[0;34m\u001b[0m\u001b[0m\n\u001b[1;32m     31\u001b[0m \u001b[0mprint\u001b[0m\u001b[0;34m(\u001b[0m\u001b[0mFk\u001b[0m\u001b[0;34m[\u001b[0m\u001b[0;34m'qf'\u001b[0m\u001b[0;34m]\u001b[0m\u001b[0;34m)\u001b[0m\u001b[0;34m\u001b[0m\u001b[0;34m\u001b[0m\u001b[0m\n",
      "\u001b[0;32m~/miniconda3/envs/isaaclab/lib/python3.10/site-packages/casadi/casadi.py\u001b[0m in \u001b[0;36m?\u001b[0;34m(self, *args, **kwargs)\u001b[0m\n\u001b[1;32m  23552\u001b[0m         \u001b[0;32melse\u001b[0m\u001b[0;34m:\u001b[0m\u001b[0;34m\u001b[0m\u001b[0;34m\u001b[0m\u001b[0m\n\u001b[1;32m  23553\u001b[0m           \u001b[0;32mreturn\u001b[0m \u001b[0mtuple\u001b[0m\u001b[0;34m(\u001b[0m\u001b[0mret\u001b[0m\u001b[0;34m)\u001b[0m\u001b[0;34m\u001b[0m\u001b[0;34m\u001b[0m\u001b[0m\n\u001b[1;32m  23554\u001b[0m       \u001b[0;32melse\u001b[0m\u001b[0;34m:\u001b[0m\u001b[0;34m\u001b[0m\u001b[0;34m\u001b[0m\u001b[0m\n\u001b[1;32m  23555\u001b[0m     \u001b[0;31m# Named inputs -> return dictionary\u001b[0m\u001b[0;34m\u001b[0m\u001b[0;34m\u001b[0m\u001b[0m\n\u001b[0;32m> 23556\u001b[0;31m         \u001b[0;32mreturn\u001b[0m \u001b[0mself\u001b[0m\u001b[0;34m.\u001b[0m\u001b[0mcall\u001b[0m\u001b[0;34m(\u001b[0m\u001b[0mkwargs\u001b[0m\u001b[0;34m)\u001b[0m\u001b[0;34m\u001b[0m\u001b[0;34m\u001b[0m\u001b[0m\n\u001b[0m",
      "\u001b[0;32m~/miniconda3/envs/isaaclab/lib/python3.10/site-packages/casadi/casadi.py\u001b[0m in \u001b[0;36m?\u001b[0;34m(self, *args)\u001b[0m\n\u001b[1;32m  20201\u001b[0m \u001b[0;34m\u001b[0m\u001b[0m\n\u001b[1;32m  20202\u001b[0m \u001b[0;34m\u001b[0m\u001b[0m\n\u001b[1;32m  20203\u001b[0m \u001b[0;34m\u001b[0m\u001b[0m\n\u001b[1;32m  20204\u001b[0m         \"\"\"\n\u001b[0;32m> 20205\u001b[0;31m         \u001b[0;32mreturn\u001b[0m \u001b[0m_casadi\u001b[0m\u001b[0;34m.\u001b[0m\u001b[0mFunction_call\u001b[0m\u001b[0;34m(\u001b[0m\u001b[0mself\u001b[0m\u001b[0;34m,\u001b[0m \u001b[0;34m*\u001b[0m\u001b[0margs\u001b[0m\u001b[0;34m)\u001b[0m\u001b[0;34m\u001b[0m\u001b[0;34m\u001b[0m\u001b[0m\n\u001b[0m",
      "\u001b[0;31mRuntimeError\u001b[0m: Error in Function::call for 'F' [SXFunction] at .../casadi/core/function.cpp:1432:\n.../casadi/core/function_internal.hpp:1091: FunctionInternal::index_in: could not find entry \"p\". Available names are: [i0, i1]."
     ]
    }
   ],
   "source": [
    "px, py, pz = ca.SX.sym('px'), ca.SX.sym('py'), ca.SX.sym('pz')\n",
    "qw, qx, qy, qz = ca.SX.sym('qw'), ca.SX.sym('qx'), ca.SX.sym('qy'), ca.SX.sym('qz')\n",
    "vx, vy, vz = ca.SX.sym('vx'), ca.SX.sym('vy'), ca.SX.sym('vz')\n",
    "\n",
    "thrust, wx, wy, wz = ca.SX.sym('thrust'), ca.SX.sym('wx'), ca.SX.sym('wy'), ca.SX.sym('wz')\n",
    "\n",
    "x = ca.vertcat(px, py, pz, qw, qx, qy, qz, vx, vy, vz) \n",
    "u = ca.vertcat(thrust, wx, wy, wz)\n",
    "\n",
    "x_dot = ca.vertcat(\n",
    "    vx,\n",
    "    vy,\n",
    "    vz,\n",
    "    0.5 * ( -wx*qx - wy*qy - wz*qz ),\n",
    "    0.5 * (  wx*qw + wz*qy - wy*qz ),\n",
    "    0.5 * (  wy*qw - wz*qx + wx*qz ),\n",
    "    0.5 * (  wz*qw + wy*qx - wx*qy ),\n",
    "    2 * ( qw*qy + qx*qz ) * thrust,\n",
    "    2 * ( qy*qz - qw*qx ) * thrust, \n",
    "    (qw*qw - qx*qx -qy*qy + qz*qz) * thrust - g\n",
    "    # (1 - 2*qx*qx - 2*qy*qy) * thrust - self._gz\n",
    ")\n",
    "\n",
    "f = ca.Function('f', [x, u], [x_dot], ['x', 'u'], ['ode'])\n",
    "\n",
    "F = runge_kutta_4(f, dt, x_dim, u_dim)\n",
    "fMap = F.map(N, \"openmp\") # parallel\n",
    "\n",
    "Fk = F(x0=[0.2,0.3],p=0.4)\n",
    "print(Fk['xf'])\n",
    "print(Fk['qf'])"
   ]
  },
  {
   "cell_type": "code",
   "execution_count": 25,
   "metadata": {},
   "outputs": [],
   "source": [
    "delta_x = ca.SX.sym(\"delta_x\", x_dim)\n",
    "delta_u = ca.SX.sym(\"delta_u\", u_dim)        \n",
    "\n",
    "cost_x = delta_x.T @ x_cost @ delta_x \n",
    "cost_u = delta_u.T @ u_cost @ delta_u\n",
    "\n",
    "f_cost_x = ca.Function('cost_x', [delta_x], [cost_x])\n",
    "f_cost_u = ca.Function('cost_u', [delta_u], [cost_u])"
   ]
  },
  {
   "cell_type": "code",
   "execution_count": 26,
   "metadata": {},
   "outputs": [],
   "source": [
    "nlp_w = []       # nlp variables\n",
    "nlp_w0 = []      # initial guess of nlp variables\n",
    "lbw = []         # lower bound of the variables, lbw <= nlp_x\n",
    "ubw = []         # upper bound of the variables, nlp_x <= ubw\n",
    "\n",
    "mpc_obj = 0      # objective \n",
    "nlp_g = []       # constraint functions\n",
    "lbg = []         # lower bound of constrait functions, lbg < g\n",
    "ubg = []         # upper bound of constrait functions, g < ubg\n",
    "\n",
    "u_min = [thrust_min, -w_max_xy, -w_max_xy, -w_max_yaw]\n",
    "u_max = [thrust_max,  w_max_xy,  w_max_xy,  w_max_yaw]\n",
    "\n",
    "x_min = [-ca.inf for _ in range(x_dim)]\n",
    "x_max = [+ca.inf for _ in range(x_dim)]\n",
    "\n",
    "g_min = [0 for _ in range(x_dim)]\n",
    "g_max = [0 for _ in range(x_dim)]"
   ]
  },
  {
   "cell_type": "code",
   "execution_count": 34,
   "metadata": {},
   "outputs": [
    {
     "name": "stdout",
     "output_type": "stream",
     "text": [
      "670\n",
      "(670, 1)\n"
     ]
    }
   ],
   "source": [
    "print(x_dim+(x_dim+3)*N+x_dim)\n",
    "\n",
    "P = ca.SX.sym(\"P\", x_dim+(x_dim+3)*N+x_dim)\n",
    "X = ca.SX.sym(\"X\", x_dim, N+1)\n",
    "U = ca.SX.sym(\"U\", u_dim, N)\n",
    "#\n",
    "print(P.shape)\n",
    "\n",
    "# nlp_w += [X[:, 0]]\n",
    "# nlp_w0 += self._quad_s0\n",
    "# lbw += x_min\n",
    "# ubw += x_max\n",
    "\n",
    "# # # starting point.\n",
    "# nlp_g += [ X[:, 0] - P[0:x_dim]]\n",
    "# lbg += g_min\n",
    "# ubg += g_max"
   ]
  }
 ],
 "metadata": {
  "kernelspec": {
   "display_name": "isaaclab",
   "language": "python",
   "name": "python3"
  },
  "language_info": {
   "codemirror_mode": {
    "name": "ipython",
    "version": 3
   },
   "file_extension": ".py",
   "mimetype": "text/x-python",
   "name": "python",
   "nbconvert_exporter": "python",
   "pygments_lexer": "ipython3",
   "version": "3.10.15"
  }
 },
 "nbformat": 4,
 "nbformat_minor": 2
}
